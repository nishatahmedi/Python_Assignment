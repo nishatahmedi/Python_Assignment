{
 "cells": [
  {
   "cell_type": "markdown",
   "id": "3c114b36-196f-4968-8c73-a96e64de1f05",
   "metadata": {},
   "source": [
    "# Exercise 1: Prime Numbers"
   ]
  },
  {
   "cell_type": "markdown",
   "id": "5c6152f9-32af-4ef6-9cc3-d2fcbd5b192f",
   "metadata": {},
   "source": [
    "## Write a Python program that checks whether a given number is prime or not. A prime number is a natural number greater than 1 that has no positive divisors other than 1 and itself."
   ]
  },
  {
   "cell_type": "code",
   "execution_count": 1,
   "id": "7fb58c8b-6bac-4856-8508-2b05f75ca991",
   "metadata": {},
   "outputs": [
    {
     "name": "stdin",
     "output_type": "stream",
     "text": [
      "Enter a number:  23\n"
     ]
    },
    {
     "name": "stdout",
     "output_type": "stream",
     "text": [
      "23 is a prime number.\n"
     ]
    }
   ],
   "source": [
    "def is_prime(n):\n",
    "    if n <= 1:\n",
    "        return False\n",
    "    if n <= 3:\n",
    "        return True\n",
    "    if n % 2 == 0 or n % 3 == 0:\n",
    "        return False\n",
    "    i = 5\n",
    "    while i * i <= n:\n",
    "        if n % i == 0 or n % (i + 2) == 0:\n",
    "            return False\n",
    "        i += 6\n",
    "    return True\n",
    "# Test the function\n",
    "\n",
    "number = int(input(\"Enter a number: \"))\n",
    "if is_prime(number):\n",
    "    print(f\"{number} is a prime number.\")\n",
    "else:\n",
    "    print(f\"{number} is not a prime number.\")"
   ]
  },
  {
   "cell_type": "markdown",
   "id": "343c5ec5-fd83-47cd-8499-a820d2b449a4",
   "metadata": {},
   "source": [
    "# Exercise 2: Product of Random Numbers\n",
    "## Develop a Python program that generates two random numbers and asks the user to enter the product of these numbers. The program should then check if the user's answer is correct and display an appropriate message.\n"
   ]
  },
  {
   "cell_type": "code",
   "execution_count": 2,
   "id": "0b8500aa-d082-466e-bec0-200a102e091c",
   "metadata": {},
   "outputs": [
    {
     "name": "stdin",
     "output_type": "stream",
     "text": [
      "What is 3 * 3?  27\n"
     ]
    },
    {
     "name": "stdout",
     "output_type": "stream",
     "text": [
      "Incorrect. The correct answer is 9.\n"
     ]
    }
   ],
   "source": [
    "# # importing the random module\n",
    "import random\n",
    "def multiplication_quiz():  \n",
    "    # Generate two random numbers between 1 and 10\n",
    "     num1 = random.randint(1, 10)  \n",
    "     num2 = random.randint(1, 10) \n",
    "        # Check if the user's answer is correct\n",
    "\n",
    "     correct_answer = num1 * num2  \n",
    "     user_answer = int(input(f\"What is {num1} * {num2}? \"))  \n",
    "     if user_answer == correct_answer:\n",
    "         print(\"Correct! Well done.\")\n",
    "    \n",
    "     else: \n",
    "         \n",
    "          print(f\"Incorrect. The correct answer is {correct_answer}.\")\n",
    "# Run the multiplication quiz\n",
    "\n",
    "multiplication_quiz()"
   ]
  },
  {
   "cell_type": "markdown",
   "id": "93a2d633-6438-4344-804c-baae87b86d42",
   "metadata": {},
   "source": [
    "# Exercise 3: Squares of Even/Odd Numbers\n",
    "## Create a Python script that prints the squares of all even or odd numbers within the range of 100 to 200. Choose either even or odd numbers and document your choice in the code."
   ]
  },
  {
   "cell_type": "code",
   "execution_count": 3,
   "id": "4d6689e2-c001-404f-8dc8-ae2738d1aea1",
   "metadata": {},
   "outputs": [
    {
     "name": "stdout",
     "output_type": "stream",
     "text": [
      "The square of 100 is 10000\n",
      "The square of 102 is 10404\n",
      "The square of 104 is 10816\n",
      "The square of 106 is 11236\n",
      "The square of 108 is 11664\n",
      "The square of 110 is 12100\n",
      "The square of 112 is 12544\n",
      "The square of 114 is 12996\n",
      "The square of 116 is 13456\n",
      "The square of 118 is 13924\n",
      "The square of 120 is 14400\n",
      "The square of 122 is 14884\n",
      "The square of 124 is 15376\n",
      "The square of 126 is 15876\n",
      "The square of 128 is 16384\n",
      "The square of 130 is 16900\n",
      "The square of 132 is 17424\n",
      "The square of 134 is 17956\n",
      "The square of 136 is 18496\n",
      "The square of 138 is 19044\n",
      "The square of 140 is 19600\n",
      "The square of 142 is 20164\n",
      "The square of 144 is 20736\n",
      "The square of 146 is 21316\n",
      "The square of 148 is 21904\n",
      "The square of 150 is 22500\n",
      "The square of 152 is 23104\n",
      "The square of 154 is 23716\n",
      "The square of 156 is 24336\n",
      "The square of 158 is 24964\n",
      "The square of 160 is 25600\n",
      "The square of 162 is 26244\n",
      "The square of 164 is 26896\n",
      "The square of 166 is 27556\n",
      "The square of 168 is 28224\n",
      "The square of 170 is 28900\n",
      "The square of 172 is 29584\n",
      "The square of 174 is 30276\n",
      "The square of 176 is 30976\n",
      "The square of 178 is 31684\n",
      "The square of 180 is 32400\n",
      "The square of 182 is 33124\n",
      "The square of 184 is 33856\n",
      "The square of 186 is 34596\n",
      "The square of 188 is 35344\n",
      "The square of 190 is 36100\n",
      "The square of 192 is 36864\n",
      "The square of 194 is 37636\n",
      "The square of 196 is 38416\n",
      "The square of 198 is 39204\n",
      "The square of 200 is 40000\n"
     ]
    }
   ],
   "source": [
    "# This script prints the squares of all even numbers within the range of 100 to 200.\n",
    "\n",
    "def print_squares_of_even_numbers():\n",
    "    # Loop through the range from 100 to 200\n",
    "    for number in range(100, 201):\n",
    "        # Check if the number is even\n",
    "        if number % 2 == 0:\n",
    "            # Print the square of the even number\n",
    "            print(f\"The square of {number} is {number ** 2}\")\n",
    "\n",
    "# Run the function\n",
    "print_squares_of_even_numbers()"
   ]
  },
  {
   "cell_type": "markdown",
   "id": "1e4efc4f-dd61-472f-acfb-22a33d6adabf",
   "metadata": {},
   "source": [
    "# Exercise 4: Word counter\n",
    "## write a program to count the number of words in a given text."
   ]
  },
  {
   "cell_type": "code",
   "execution_count": 4,
   "id": "9c1a3c3d-bccd-47a4-84ae-36706eeb1b68",
   "metadata": {},
   "outputs": [
    {
     "name": "stdout",
     "output_type": "stream",
     "text": [
      "'this': 2\n",
      "'is': 1\n",
      "'a': 1\n",
      "'sample': 1\n",
      "'text': 2\n",
      "'will': 1\n",
      "'be': 1\n",
      "'used': 1\n",
      "'to': 1\n",
      "'demonstrate': 1\n",
      "'the': 1\n",
      "'word': 1\n",
      "'counter': 1\n"
     ]
    }
   ],
   "source": [
    "def count_words(input_text):\n",
    "    # Remove punctuation and convert text to lower case for consistent counting\n",
    "    import string\n",
    "    translator = str.maketrans('', '', string.punctuation)\n",
    "    cleaned_text = input_text.translate(translator).lower()\n",
    "    \n",
    "    # Split the text into words\n",
    "    words = cleaned_text.split()\n",
    "    \n",
    "    # Create a dictionary to count the occurrences of each word\n",
    "    word_count = {}\n",
    "    for word in words:\n",
    "        if word in word_count:\n",
    "            word_count[word] += 1\n",
    "        else:\n",
    "            word_count[word] = 1\n",
    "    \n",
    "    # Print the word count\n",
    "    for word, count in word_count.items():\n",
    "        print(f\"'{word}': {count}\")\n",
    "\n",
    "# Sample input text\n",
    "input_text = \"This is a sample text. This text will be used to demonstrate the word counter.\"\n",
    "\n",
    "# Call the function with the sample input text\n",
    "count_words(input_text)"
   ]
  },
  {
   "cell_type": "markdown",
   "id": "e3ac5477-ddae-450d-92db-a0c949146ef9",
   "metadata": {},
   "source": [
    "# Exercise 5: Check for Palindrome\n",
    "## Write a Python function called is_palindrome that takes a string as input and returns True if the string is a palindrome, and False otherwise. A palindrome is a word, phrase, number, or other sequence of characters that reads the same forward and backward, ignoring spaces, punctuation, and capitalization.\n",
    "Example:\n",
    "Input: \"racecar\"\n",
    "Expected Output: True\n"
   ]
  },
  {
   "cell_type": "code",
   "execution_count": 5,
   "id": "3f414457-646f-42aa-b9dd-6a255d1b71e7",
   "metadata": {},
   "outputs": [
    {
     "name": "stdout",
     "output_type": "stream",
     "text": [
      "True\n",
      "True\n",
      "False\n"
     ]
    }
   ],
   "source": [
    "import string\n",
    "\n",
    "def is_palindrome(input_string):\n",
    "    # Remove punctuation, spaces, and convert to lower case\n",
    "    translator = str.maketrans('', '', string.punctuation)\n",
    "    cleaned_string = input_string.translate(translator).replace(\" \", \"\").lower()\n",
    "    \n",
    "    # Check if the cleaned string is equal to its reverse\n",
    "    return cleaned_string == cleaned_string[::-1]\n",
    "\n",
    "# Test cases\n",
    "print(is_palindrome(\"A man, a plan, a canal, Panama\"))  # Should return True\n",
    "print(is_palindrome(\"racecar\"))  # Should return True\n",
    "print(is_palindrome(\"Hello, World!\"))  # Should return False"
   ]
  },
  {
   "cell_type": "code",
   "execution_count": null,
   "id": "8d3583b4-5baa-4d52-8d1c-426ef2a4c4f3",
   "metadata": {},
   "outputs": [],
   "source": []
  }
 ],
 "metadata": {
  "kernelspec": {
   "display_name": "Python 3 (ipykernel)",
   "language": "python",
   "name": "python3"
  },
  "language_info": {
   "codemirror_mode": {
    "name": "ipython",
    "version": 3
   },
   "file_extension": ".py",
   "mimetype": "text/x-python",
   "name": "python",
   "nbconvert_exporter": "python",
   "pygments_lexer": "ipython3",
   "version": "3.12.3"
  }
 },
 "nbformat": 4,
 "nbformat_minor": 5
}
